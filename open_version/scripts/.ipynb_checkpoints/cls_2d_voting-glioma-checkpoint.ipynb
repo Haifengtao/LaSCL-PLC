{
 "cells": [
  {
   "cell_type": "code",
   "execution_count": 2,
   "id": "96cc0168",
   "metadata": {},
   "outputs": [],
   "source": [
    "import os, torch, torch, tqdm\n",
    "import sys, json\n",
    "import h5py\n",
    "import numpy as np\n",
    "from torch.utils.data import DataLoader\n",
    "import matplotlib.pyplot as plt\n",
    "import torch.nn.functional as F\n",
    "from sklearn.metrics import precision_score, recall_score, f1_score\n",
    "from sklearn.metrics import roc_curve, auc\n",
    "from sklearn.manifold import TSNE\n",
    "\n",
    "sys.path.append(\"/home/zhang_istbi/data_disk/zhaobt/projects/tumor_cls/\")\n",
    "\n",
    "from nets import Losses\n",
    "from utils import data_generator\n",
    "from nets import unet, resnet\n",
    "from utils import file_io\n",
    "from utils import logger\n",
    "from utils import model_io"
   ]
  },
  {
   "cell_type": "markdown",
   "id": "6dceee3d",
   "metadata": {},
   "source": [
    "# prepare for inference"
   ]
  },
  {
   "cell_type": "code",
   "execution_count": 5,
   "id": "b41cfc36",
   "metadata": {
    "code_folding": [
     0,
     7
    ]
   },
   "outputs": [],
   "source": [
    "def acc(pred, y_true):\n",
    "    res = 0\n",
    "    for p, t in zip(pred, y_true):\n",
    "        if p == t:\n",
    "            res += 1\n",
    "    return res/len(pred)\n",
    "\n",
    "def cal_cls_res(label, pred, prob=None):\n",
    "    p = precision_score(label, pred, average='binary')\n",
    "    r = recall_score(label, pred, average='binary')\n",
    "    f1score = f1_score(label, pred, average='binary')\n",
    "    print(\"acc:\", np.sum(np.array(label)==np.array(pred))/len(pred))\n",
    "    print(\"precision_score:\", p)\n",
    "    print(\"recall_score:\", r)\n",
    "    print(\"f1_score:\", f1score)\n",
    "    if prob is not None:\n",
    "        fpr,tpr,threshold = roc_curve(label,prob) ###计算真正率和假正率\n",
    "        roc_auc = auc(fpr,tpr)\n",
    "        print(\"roc_auc:\", roc_auc)"
   ]
  },
  {
   "cell_type": "code",
   "execution_count": 6,
   "id": "9487342f",
   "metadata": {},
   "outputs": [],
   "source": [
    "model = unet.Unet_cls(\"resnext101_32x16d\", 2, 2)"
   ]
  },
  {
   "cell_type": "code",
   "execution_count": 3,
   "id": "aa02e266",
   "metadata": {},
   "outputs": [],
   "source": [
    "labeled_f_val = h5py.File(r\"../../../dataset/tumor_cls/cross_val_h5_dataset/fold2_2d_mix_test.h5\", 'r')\n",
    "labels = labeled_f_val['label'][:]\n",
    "imgs= labeled_f_val['img'][:]\n",
    "masks = labeled_f_val['mask'][:]\n",
    "indexs = labeled_f_val['meta_info'][:]\n",
    "labeled_f_val.close()"
   ]
  },
  {
   "cell_type": "code",
   "execution_count": null,
   "id": "6c4da830",
   "metadata": {},
   "outputs": [],
   "source": []
  },
  {
   "cell_type": "code",
   "execution_count": 74,
   "id": "04268810",
   "metadata": {},
   "outputs": [],
   "source": [
    "labels[labels != 1] = 0\n",
    "val_cls_dataset = data_generator.cls_generator_2D(imgs,\n",
    "                                                  masks, labels,\n",
    "                                                  rotate_degree=0,\n",
    "                                                  noise_sigma=(0, 1e-9), )\n",
    "val_dataLoader = DataLoader(val_cls_dataset, batch_size=1, shuffle=False)"
   ]
  },
  {
   "cell_type": "code",
   "execution_count": 16,
   "id": "51e6e4a9",
   "metadata": {},
   "outputs": [],
   "source": [
    "labeled_f_train = h5py.File(r\"../../../dataset/tumor_cls/cross_val_h5_dataset/fold4_2d_mix_train.h5\", 'r')\n",
    "train_labels = labeled_f_train['label'][:]\n",
    "train_imgs= labeled_f_train['img'][:]\n",
    "train_masks = labeled_f_train['mask'][:]\n",
    "train_indexs = labeled_f_train['meta_info'][:]\n",
    "labeled_f_train.close()\n",
    "\n",
    "train_labels[train_labels != 1] = 0\n",
    "train_cls_dataset = data_generator.cls_generator_2D(train_imgs,\n",
    "                                                    train_masks, train_labels,\n",
    "                                                     rotate_degree=0,\n",
    "                                                     noise_sigma=(0, 1e-9), )\n",
    "train_dataLoader = DataLoader(train_cls_dataset, batch_size=1, shuffle=False)\n"
   ]
  },
  {
   "cell_type": "code",
   "execution_count": 60,
   "id": "eab1d59c",
   "metadata": {},
   "outputs": [
    {
     "name": "stdout",
     "output_type": "stream",
     "text": [
      "2310\n",
      "2365\n"
     ]
    }
   ],
   "source": [
    "print(len(val_dataLoader))\n",
    "print(len(pred))"
   ]
  },
  {
   "cell_type": "code",
   "execution_count": 76,
   "id": "532854f2",
   "metadata": {},
   "outputs": [
    {
     "data": {
      "text/plain": [
       "<All keys matched successfully>"
      ]
     },
     "execution_count": 76,
     "metadata": {},
     "output_type": "execute_result"
    }
   ],
   "source": [
    "path = \"../cpts/cls/resnest101_2d_cls_seg_fold2/model_v2/100_model.pth\"\n",
    "checkpoint = torch.load(path)\n",
    "model.load_state_dict(checkpoint['state_dict'])"
   ]
  },
  {
   "cell_type": "markdown",
   "id": "af9ee920",
   "metadata": {},
   "source": [
    "# inference"
   ]
  },
  {
   "cell_type": "code",
   "execution_count": 77,
   "id": "c24046e9",
   "metadata": {
    "code_folding": []
   },
   "outputs": [],
   "source": [
    "def merge_slice(index, pred, labels):\n",
    "    data = {}\n",
    "    label = []\n",
    "    temp = -1\n",
    "    temp_l = -1\n",
    "    for idx, i in enumerate(index):\n",
    "        if temp != i:\n",
    "            temp = i\n",
    "            label.append(labels[idx])\n",
    "        if temp not in data:\n",
    "            data[temp] = [pred[idx]]\n",
    "        else:\n",
    "            data[temp].append(pred[idx])\n",
    "    return data, label"
   ]
  },
  {
   "cell_type": "code",
   "execution_count": 78,
   "id": "acd85e02",
   "metadata": {
    "code_folding": []
   },
   "outputs": [
    {
     "name": "stderr",
     "output_type": "stream",
     "text": [
      "2376it [02:08, 18.46it/s]\n"
     ]
    }
   ],
   "source": [
    "def evaluate(model, val_dataLoader):\n",
    "    model.eval()\n",
    "    model.cuda()\n",
    "    pred = []\n",
    "    pres_prob = []\n",
    "    for idx, data in tqdm.tqdm(enumerate(val_dataLoader)):\n",
    "        img, tumor, label = data\n",
    "        img = img.cuda()\n",
    "        seg, pred_label = model(img)\n",
    "        pred_label_prob = F.softmax(pred_label, dim=1)\n",
    "        pred.append(torch.max(pred_label, dim=1)[1].item())\n",
    "        pres_prob.append(pred_label_prob[0, 1].item())\n",
    "    return pred, pres_prob\n",
    "pred, pres_prob = evaluate(model, val_dataLoader)"
   ]
  },
  {
   "cell_type": "code",
   "execution_count": 79,
   "id": "9a915348",
   "metadata": {},
   "outputs": [
    {
     "name": "stdout",
     "output_type": "stream",
     "text": [
      "acc: 0.8383838383838383\n",
      "precision_score: 0.887434554973822\n",
      "recall_score: 0.694672131147541\n",
      "f1_score: 0.7793103448275863\n",
      "roc_auc: 0.9131389051522247\n"
     ]
    }
   ],
   "source": [
    "cal_cls_res(labels, pred, pres_prob)\n",
    "savedir = \"../cpts/cls/resnest101_2d_cls_seg_fold2\"\n",
    "np.save(savedir +\"/pred-train-epoch100\", pres_prob)"
   ]
  },
  {
   "cell_type": "markdown",
   "id": "f9b65105",
   "metadata": {},
   "source": [
    "# vote"
   ]
  },
  {
   "cell_type": "markdown",
   "id": "20deba8a",
   "metadata": {},
   "source": [
    "## voting by number"
   ]
  },
  {
   "cell_type": "code",
   "execution_count": 82,
   "id": "5fc00edf",
   "metadata": {},
   "outputs": [
    {
     "name": "stdout",
     "output_type": "stream",
     "text": [
      "acc: 0.9156626506024096\n",
      "precision_score: 0.8717948717948718\n",
      "recall_score: 0.9444444444444444\n",
      "f1_score: 0.9066666666666667\n",
      "roc_auc: 0.9822695035460993\n"
     ]
    },
    {
     "data": {
      "text/plain": [
       "0.14"
      ]
     },
     "execution_count": 82,
     "metadata": {},
     "output_type": "execute_result"
    }
   ],
   "source": [
    "def votingBynum(data, cls_bound):\n",
    "    pred_case = []\n",
    "    prob_case = []\n",
    "    for i in data:\n",
    "        prob_case.append(sum(data[i])/len(data[i]))\n",
    "        if sum(data[i])/len(data[i]) > cls_bound:\n",
    "            pred_case.append(1)\n",
    "        else:\n",
    "            pred_case.append(0)\n",
    "    return pred_case, prob_case\n",
    "\n",
    "data, label = merge_slice(indexs, pred, labels)\n",
    "max_acc = 0\n",
    "max_bound = 0\n",
    "for i in np.arange(0,1,0.01):\n",
    "    pred_case_temp, _ = votingBynum(data, i)\n",
    "    if acc(label, pred_case_temp) > max_acc:\n",
    "        max_acc = acc(label, pred_case_temp)\n",
    "        max_bound = i\n",
    "opt_pred, mean_prob= votingBynum(data, max_bound)\n",
    "opt_pred, mean_prob= votingBynum(data, 0.2)\n",
    "cal_cls_res(label, opt_pred, mean_prob)\n",
    "max_bound"
   ]
  },
  {
   "cell_type": "markdown",
   "id": "8d1f8d8e",
   "metadata": {},
   "source": [
    "## voting by weight"
   ]
  },
  {
   "cell_type": "code",
   "execution_count": 84,
   "id": "6962e17a",
   "metadata": {
    "code_folding": [],
    "scrolled": true
   },
   "outputs": [
    {
     "name": "stdout",
     "output_type": "stream",
     "text": [
      "acc: 0.9036144578313253\n",
      "precision_score: 0.85\n",
      "recall_score: 0.9444444444444444\n",
      "f1_score: 0.8947368421052632\n",
      "roc_auc: 0.9763593380614657\n"
     ]
    },
    {
     "data": {
      "text/plain": [
       "0.3"
      ]
     },
     "execution_count": 84,
     "metadata": {},
     "output_type": "execute_result"
    }
   ],
   "source": [
    "def votingByprob(pres_prob_case2, cls_bound):\n",
    "    pred_case_2 = []\n",
    "    prob_case_2 = []\n",
    "    for idx, i in enumerate(pres_prob_case2):\n",
    "    #     print(idx, i, label[i], np.mean(pres_prob_case2[i]))\n",
    "        prob_case_2.append(np.mean(pres_prob_case2[i]))\n",
    "        if np.mean(pres_prob_case2[i])> cls_bound:\n",
    "            pred_case_2.append(1)\n",
    "        else:\n",
    "            pred_case_2.append(0)\n",
    "    return pred_case_2, prob_case_2\n",
    "\n",
    "pres_prob_case2, label = merge_slice(indexs, pres_prob, labels)\n",
    "max_acc = 0\n",
    "max_bound = 0\n",
    "for i in np.arange(0,1,0.01):\n",
    "    pred_case_temp, _ = votingByprob(pres_prob_case2, i)\n",
    "    if acc(label, pred_case_temp) > max_acc:\n",
    "        max_acc = acc(label, pred_case_temp)\n",
    "        max_bound = i\n",
    "opt_pres, mean_prob = votingByprob(pres_prob_case2, max_bound)\n",
    "opt_pres, mean_prob = votingByprob(pres_prob_case2, 0.2)\n",
    "cal_cls_res(label, opt_pres, np.array(mean_prob))\n",
    "max_bound"
   ]
  },
  {
   "cell_type": "markdown",
   "id": "9b482999",
   "metadata": {},
   "source": [
    "# VIS"
   ]
  },
  {
   "cell_type": "code",
   "execution_count": 24,
   "id": "36190e7a",
   "metadata": {},
   "outputs": [
    {
     "data": {
      "text/plain": [
       "<Figure size 432x288 with 0 Axes>"
      ]
     },
     "metadata": {},
     "output_type": "display_data"
    },
    {
     "data": {
      "image/png": "[encoded data removed]",
      "text/plain": [
       "<Figure size 720x720 with 1 Axes>"
      ]
     },
     "metadata": {
      "needs_background": "light"
     },
     "output_type": "display_data"
    }
   ],
   "source": [
    "def acu_curve(y,prob):\n",
    "    fpr,tpr,threshold = roc_curve(y,prob) ###计算真正率和假正率\n",
    "    roc_auc = auc(fpr,tpr) ###计算auc的值\n",
    " \n",
    "    plt.figure()\n",
    "    lw = 2\n",
    "    plt.figure(figsize=(10,10))\n",
    "    plt.plot(fpr, tpr, color='darkorange',\n",
    "             lw=lw, label='ROC curve (area = %0.3f)' % roc_auc) ###假正率为横坐标，真正率为纵坐标做曲线\n",
    "    plt.plot([0, 1], [0, 1], color='navy', lw=lw, linestyle='--', )\n",
    "    plt.xlim([0.0, 1.0])\n",
    "    plt.ylim([0.0, 1.05])\n",
    "    plt.xlabel('False Positive Rate', fontsize=25)\n",
    "    plt.ylabel('True Positive Rate', fontsize=25,)\n",
    "    plt.title('Receiver operating characteristic example', fontsize=25,)\n",
    "    plt.legend(loc=\"lower right\", fontsize=25)\n",
    " \n",
    "    plt.show()\n",
    "# softmax_pred = xgb1.predict_proba(X_test)\n",
    "acu_curve(np.array(label),np.array(mean_prob))"
   ]
  },
  {
   "cell_type": "code",
   "execution_count": 25,
   "id": "2116c9b2",
   "metadata": {},
   "outputs": [
    {
     "data": {
      "image/png": "[encoded data removed]",
      "text/plain": [
       "<Figure size 432x288 with 1 Axes>"
      ]
     },
     "metadata": {
      "needs_background": "light"
     },
     "output_type": "display_data"
    }
   ],
   "source": [
    "def PR_curve(y,pred):\n",
    "    pos = np.sum(y == 1)\n",
    "    neg = np.sum(y == 0)\n",
    "    pred_sort = np.sort(pred)[::-1]  # 从大到小排序\n",
    "    index = np.argsort(pred)[::-1]  # 从大到小排序\n",
    "    y_sort = y[index]\n",
    "#     print(y_sort)\n",
    "\n",
    "    Pre = []\n",
    "    Rec = []\n",
    "    for i, item in enumerate(pred_sort):\n",
    "        if i == 0:#因为计算precision的时候分母要用到i，当i为0时会出错，所以单独列出\n",
    "            Pre.append(1)\n",
    "            Rec.append(0)\n",
    "        else:\n",
    "            Pre.append(np.sum((y_sort[:i] == 1)) /i)\n",
    "            Rec.append(np.sum((y_sort[:i] == 1)) / pos)\n",
    "#     print(Pre)\n",
    "#     print(Rec)\n",
    "    ## 画图\n",
    "    plt.plot(Rec, Pre, 'k')\n",
    "    # plt.legend(loc='lower right')\n",
    "#     plt.title('Receiver Operating Characteristic')\n",
    "    plt.plot([(0, 0), (1, 1)], 'r--')\n",
    "    plt.xlim([-0.01, 1.01])\n",
    "    plt.ylim([-0.01, 01.01])\n",
    "    plt.ylabel('Precision', fontsize=25)\n",
    "    plt.xlabel('Recall', fontsize=25)\n",
    "    plt.show()\n",
    "PR_curve(np.array(label),np.array(mean_prob))"
   ]
  },
  {
   "cell_type": "markdown",
   "id": "3ea0c313",
   "metadata": {},
   "source": [
    "# get vec to multiclass"
   ]
  },
  {
   "cell_type": "code",
   "execution_count": 30,
   "id": "3fd140ce",
   "metadata": {},
   "outputs": [
    {
     "name": "stderr",
     "output_type": "stream",
     "text": [
      "2310it [00:50, 45.88it/s]\n"
     ]
    }
   ],
   "source": [
    "model.eval()\n",
    "model.cuda()\n",
    "pred_val_vec = []\n",
    "\n",
    "for idx, data in tqdm.tqdm(enumerate(val_dataLoader)):\n",
    "    img, tumor, label = data\n",
    "    img = img.cuda()\n",
    "    cls_vec = model.get_vec(img)\n",
    "    pred_val_vec.append(cls_vec.detach().cpu().numpy())\n"
   ]
  },
  {
   "cell_type": "code",
   "execution_count": 31,
   "id": "c4413f90",
   "metadata": {},
   "outputs": [
    {
     "name": "stderr",
     "output_type": "stream",
     "text": [
      "9289it [03:38, 42.60it/s]\n"
     ]
    }
   ],
   "source": [
    "# def val_model(model, val_dataset, use_cuda):\n",
    "    # implemented\n",
    "model.eval()\n",
    "model.cuda()\n",
    "pred_train_vec = []\n",
    "\n",
    "for idx, data in tqdm.tqdm(enumerate(train_dataLoader)):\n",
    "    img, tumor, label = data\n",
    "    img = img.cuda()\n",
    "    cls_vec = model.get_vec(img)\n",
    "    pred_train_vec.append(cls_vec.detach().cpu().numpy())\n",
    "    \n",
    "# print(\"==>VAL:  dice: {}, acc: {}\".format(acc(pred, y_true)))\n",
    "# return dices.avg, pred, pres_prob"
   ]
  },
  {
   "cell_type": "code",
   "execution_count": 33,
   "id": "c54773fc",
   "metadata": {},
   "outputs": [],
   "source": [
    "pred_val_vec = np.array(pred_val_vec)\n",
    "savedir = \"../cpts/cls/resnest101_2d_cls_seg_fold1\"\n",
    "np.save(savedir +\"/vec-test-epoch100\", pred_val_vec)\n",
    "\n",
    "pred_train_vec = np.array(pred_train_vec)\n",
    "savedir = \"../cpts/cls/resnest101_2d_cls_seg_fold1\"\n",
    "np.save(savedir +\"/vec-train-epoch100\", pred_train_vec)"
   ]
  },
  {
   "cell_type": "code",
   "execution_count": 12,
   "id": "48fae5a9",
   "metadata": {},
   "outputs": [
    {
     "data": {
      "text/plain": [
       "(2310, 2048)"
      ]
     },
     "execution_count": 12,
     "metadata": {},
     "output_type": "execute_result"
    }
   ],
   "source": [
    "pred_val_vec.shape"
   ]
  },
  {
   "cell_type": "code",
   "execution_count": 20,
   "id": "4dee5f1a",
   "metadata": {},
   "outputs": [
    {
     "data": {
      "text/plain": [
       "(8956, 2048)"
      ]
     },
     "execution_count": 20,
     "metadata": {},
     "output_type": "execute_result"
    }
   ],
   "source": [
    "pred_train_vec = np.array(pred_train_vec)\n",
    "pred_train_vec.shape"
   ]
  },
  {
   "cell_type": "code",
   "execution_count": 34,
   "id": "d211e9f5",
   "metadata": {},
   "outputs": [
    {
     "name": "stderr",
     "output_type": "stream",
     "text": [
      "/home/zhang_istbi/miniconda3/envs/pt10/lib/python3.8/site-packages/sklearn/manifold/_t_sne.py:790: FutureWarning: The default learning rate in TSNE will change from 200.0 to 'auto' in 1.2.\n",
      "  warnings.warn(\n",
      "/home/zhang_istbi/miniconda3/envs/pt10/lib/python3.8/site-packages/sklearn/decomposition/_pca.py:593: RuntimeWarning: overflow encountered in square\n",
      "  self.explained_variance_ = (S ** 2) / (n_samples - 1)\n",
      "/home/zhang_istbi/miniconda3/envs/pt10/lib/python3.8/site-packages/sklearn/manifold/_t_sne.py:982: FutureWarning: The PCA initialization in TSNE will change to have the standard deviation of PC1 equal to 1e-4 in 1.2. This will ensure better convergence.\n",
      "  warnings.warn(\n"
     ]
    },
    {
     "name": "stdout",
     "output_type": "stream",
     "text": [
      "(2310, 2)\n"
     ]
    },
    {
     "data": {
      "image/png": "[encoded data removed]",
      "text/plain": [
       "<Figure size 432x288 with 1 Axes>"
      ]
     },
     "metadata": {
      "needs_background": "light"
     },
     "output_type": "display_data"
    }
   ],
   "source": [
    "tsne2 = TSNE(n_components=2, init='pca', random_state=501)\n",
    "tsne_nore = tsne2.fit_transform(pred_val_vec)\n",
    "print(tsne_nore.shape)\n",
    "plt.scatter(tsne_nore[:,0],tsne_nore[:,1],c=labels)\n",
    "plt.title(\"TSNE of Selected Vectors\")\n",
    "# plt.legend()\n",
    "plt.show()"
   ]
  },
  {
   "cell_type": "code",
   "execution_count": 35,
   "id": "5571b0f7",
   "metadata": {},
   "outputs": [
    {
     "name": "stdout",
     "output_type": "stream",
     "text": [
      "12.2054205\n",
      "0.00066135504\n"
     ]
    },
    {
     "name": "stderr",
     "output_type": "stream",
     "text": [
      "/home/zhang_istbi/miniconda3/envs/pt10/lib/python3.8/site-packages/sklearn/manifold/_t_sne.py:790: FutureWarning: The default learning rate in TSNE will change from 200.0 to 'auto' in 1.2.\n",
      "  warnings.warn(\n",
      "/home/zhang_istbi/miniconda3/envs/pt10/lib/python3.8/site-packages/sklearn/decomposition/_pca.py:593: RuntimeWarning: overflow encountered in square\n",
      "  self.explained_variance_ = (S ** 2) / (n_samples - 1)\n",
      "/home/zhang_istbi/miniconda3/envs/pt10/lib/python3.8/site-packages/sklearn/manifold/_t_sne.py:982: FutureWarning: The PCA initialization in TSNE will change to have the standard deviation of PC1 equal to 1e-4 in 1.2. This will ensure better convergence.\n",
      "  warnings.warn(\n"
     ]
    },
    {
     "name": "stdout",
     "output_type": "stream",
     "text": [
      "0.17702353\n",
      "(2289, 2)\n"
     ]
    },
    {
     "data": {
      "image/png": "[encoded data removed]",
      "text/plain": [
       "<Figure size 432x288 with 1 Axes>"
      ]
     },
     "metadata": {
      "needs_background": "light"
     },
     "output_type": "display_data"
    }
   ],
   "source": [
    "print(np.max(pred_train_vec))\n",
    "print(np.min(pred_train_vec))\n",
    "# pred_train_vec = np.nan_to_num(pred_train_vec)\n",
    "\n",
    "pred_train_vec_norm = F.normalize(torch.from_numpy(pred_train_vec), dim=1).numpy()\n",
    "tsne2 = TSNE(n_components=2, init='pca', random_state=501)\n",
    "tsne_nore = tsne2.fit_transform(pred_train_vec_norm[7000:, :])\n",
    "print(np.max(pred_train_vec_norm))\n",
    "\n",
    "print(tsne_nore.shape)\n",
    "plt.scatter(tsne_nore[:,0],tsne_nore[:,1],c=train_labels[7000:])\n",
    "plt.title(\"TSNE of Selected Vectors\")\n",
    "# plt.legend()\n",
    "plt.show()"
   ]
  },
  {
   "cell_type": "markdown",
   "id": "87be14fc",
   "metadata": {},
   "source": [
    "# read age info"
   ]
  },
  {
   "cell_type": "code",
   "execution_count": 36,
   "id": "5c2e1fba",
   "metadata": {
    "code_folding": [
     4
    ]
   },
   "outputs": [
    {
     "name": "stdout",
     "output_type": "stream",
     "text": [
      "hemangioblastoma 45.09051724137931 ± 13.8811300745384\n",
      "pilocytic_astrocytoma 23.631944444444443 ± 13.598788001436917\n",
      "angiocavernoma 38.78861788617886 ± 13.925616585155332\n",
      "III-IV_glioma 32.57142857142857 ± 18.630674727886976\n"
     ]
    }
   ],
   "source": [
    "data = open(\"../data/name_age/age_dataset.json\", \"r\")\n",
    "age_dataset = json.load(data)\n",
    "data.close()\n",
    "stat_ages = {}\n",
    "for i in age_dataset:\n",
    "    temp = []\n",
    "    for j in age_dataset[i]:\n",
    "        temp.append(age_dataset[i][j])\n",
    "    print(i, np.mean(temp),\"±\",np.std(temp))\n",
    "    stat_ages[i] = np.mean(temp)"
   ]
  },
  {
   "cell_type": "code",
   "execution_count": 39,
   "id": "54e6787a",
   "metadata": {
    "code_folding": [
     0
    ],
    "collapsed": true
   },
   "outputs": [
    {
     "name": "stdout",
     "output_type": "stream",
     "text": [
      "43 /home/zhang_istbi/zhaobt/dataset/tumor_cls/tumor_dataset1/hemangioblastoma/lv_wen_ying/T1+/T1+_T1_MPRAGE_TRA_iso1.0_20130327102248_2_roi_resize_crop.nii.gz\n",
      "59 /home/zhang_istbi/zhaobt/dataset/tumor_cls/tumor_dataset2/III-IV_glioma/xu_bo_wen/xu_bo_wen_WIP_T1W_3D_Nav+C_20200330201120_501_T1+_roi_resize_crop.nii.gz\n",
      "84 /home/zhang_istbi/zhaobt/dataset/tumor_cls/tumor_dataset2/III-IV_glioma/peng_zi_xuan/peng_zi_xuan_OAx_T1Flair+C_20200914210820_9_T1+_roi_resize_crop.nii.gz\n",
      "123 /home/zhang_istbi/zhaobt/dataset/tumor_cls/tumor_dataset3/hemangioblastoma/lin_yan_ming/T1+/_j201406__1213042732/_j201406__1213042732_Ax_T1+C_20210816164431_6_roi_resize_crop.nii.gz\n",
      "138 /home/zhang_istbi/zhaobt/dataset/tumor_cls/tumor_dataset1/hemangioblastoma/wang_jian_bing_2/T1+/t1+_T1_MPRAGE_TRA_iso1.0_20191016131331_9_roi_resize_crop.nii.gz\n",
      "149 /home/zhang_istbi/zhaobt/dataset/tumor_cls/tumor_dataset2/III-IV_glioma/wang_you_ding/wang_you_ding_OAx_T1Flair+C_20190216083825_9_T1+_roi_resize_crop.nii.gz\n",
      "188 /home/zhang_istbi/zhaobt/dataset/tumor_cls/tumor_dataset2/III-IV_glioma/diao_qin/diao_qin_OAx_T1Flair+C_20200331091152_8_T1+_roi_resize_crop.nii.gz\n",
      "221 /home/zhang_istbi/zhaobt/dataset/tumor_cls/tumor_dataset3/III-IV_glioma/han_chun/T1+/_j201406__1213072804/_j201406__1213072804_Ax_3D_T1_BRAVO_20210720160618_2_roi_resize_crop.nii.gz\n",
      "232 /home/zhang_istbi/zhaobt/dataset/tumor_cls/tumor_dataset2/III-IV_glioma/wang_zhi_min/wang_zhi_min_WIP_T1W_3D_Nav+C_20200323150859_501_T1+_roi_resize_crop.nii.gz\n",
      "236 /home/zhang_istbi/zhaobt/dataset/tumor_cls/tumor_dataset3/III-IV_glioma/chen_hong_wei/T1+/T1+_OAx_T1Flair+C_20210824173956_9_roi_resize_crop.nii.gz\n",
      "276 /home/zhang_istbi/zhaobt/dataset/tumor_cls/tumor_dataset1/angiocavernoma/yu_jian_ping_-_zeng_qiang_chuang_kuan_wen_ti/T1+/T1+_T1_MPRAGE_TRA_iso1.0_20180605123753_3_roi_resize_crop.nii.gz\n",
      "281 /home/zhang_istbi/zhaobt/dataset/tumor_cls/tumor_dataset2/III-IV_glioma/yang_chang_hui/yang_chang_hui_WIP_T1W_3D_Nav+C_20191108140217_301_T1+_roi_resize_crop.nii.gz\n",
      "310 /home/zhang_istbi/zhaobt/dataset/tumor_cls/tumor_dataset1/III-IV_glioma/yang_chao_ze/T1+/T1+_T1_MPRAGE_TRA_iso1.0_20200331152314_2_roi_resize_crop.nii.gz\n",
      "316 /home/zhang_istbi/zhaobt/dataset/tumor_cls/tumor_dataset2/III-IV_glioma/zhu_kun_yan/zhu_kun_yan_WIP_T1W_3D_Nav_20210406131340_201_T1+_roi_resize_crop.nii.gz\n",
      "322 /home/zhang_istbi/zhaobt/dataset/tumor_cls/tumor_dataset2/III-IV_glioma/wen_xia/wen_xia_WIP_sT1W_3D_TFE_20190815141244_501_T1_roi_resize_crop.nii.gz\n",
      "330 /home/zhang_istbi/zhaobt/dataset/tumor_cls/tumor_dataset2/III-IV_glioma/sun_qian_yao/sun_qian_yao_OAx_T2Flair_20190809164408_6_T2F_roi_resize_crop.nii.gz\n",
      "===> TEST\n",
      "4 /home/zhang_istbi/zhaobt/dataset/tumor_cls/tumor_dataset1/angiocavernoma/qiu_pei_ming_-_chuang_kuan/T1+/T1+_T1_MPRAGE_TRA_iso1.0_20190919121645_21_roi_resize_crop.nii.gz\n",
      "16 /home/zhang_istbi/zhaobt/dataset/tumor_cls/tumor_dataset1/hemangioblastoma/han_wei_yi/T1+/T+_Ax_T1+C_20151219152430_19_roi_resize_crop.nii.gz\n",
      "36 /home/zhang_istbi/zhaobt/dataset/tumor_cls/tumor_dataset2/III-IV_glioma/pan_yu/pan_yu_WIP_T1W_3D_Nav+C_20191203184211_401_T1+_roi_resize_crop.nii.gz\n",
      "43 /home/zhang_istbi/zhaobt/dataset/tumor_cls/tumor_dataset1/III-IV_glioma/ye_qing_2018/T1+/T1+_T1_MPRAGE_TRA_iso1.0_20180131080837_3_roi_resize_crop.nii.gz\n",
      "53 /home/zhang_istbi/zhaobt/dataset/tumor_cls/tumor_dataset1/hemangioblastoma/gao_hui/T1+/T1+_T1_MPRAGE_TRA_iso1.0_20130419095019_2_roi_resize_crop.nii.gz\n",
      "82 /home/zhang_istbi/zhaobt/dataset/tumor_cls/tumor_dataset1/angiocavernoma/xu_zong_dao/T1+/T1+_T1_MPRAGE_TRA_iso1.0_20191212105927_9_roi_resize_crop.nii.gz\n"
     ]
    }
   ],
   "source": [
    "def get_ageset_for_slice(data_dir, train_indexs):\n",
    "    age_set = {}\n",
    "    with open(data_dir, 'r') as f:\n",
    "        strs = f.readlines()\n",
    "    #     print(strs)\n",
    "        mask_list = [line.strip().split(\" \")[0] for line in strs]\n",
    "        tumor_type_name = []\n",
    "        for idx, i in enumerate(mask_list):\n",
    "            name = i.split(\"/\")\n",
    "            try:\n",
    "#                 print(idx, age_dataset[name[7]][name[8]])\n",
    "                age_set[idx] = age_dataset[name[7]][name[8]]\n",
    "            except:\n",
    "                print(idx, i)\n",
    "                age_set[idx] = stat_ages[name[7]]\n",
    "                tumor_type_name.append((name[7], name[8]))\n",
    "    age_slices = []\n",
    "    for idx, i in enumerate(train_indexs):\n",
    "        age_slices.append(age_set[i])\n",
    "    return age_slices\n",
    "\n",
    "data_dir = \"../data/version_mix/fold1/train.txt\"\n",
    "train_age_slices = get_ageset_for_slice(data_dir, train_indexs)\n",
    "print(\"===> TEST\")\n",
    "data_dir = \"../data/version_mix/fold1/test.txt\"\n",
    "test_age_slices = get_ageset_for_slice(data_dir, indexs)"
   ]
  },
  {
   "cell_type": "markdown",
   "id": "ea27f417",
   "metadata": {},
   "source": [
    "# cls by vec"
   ]
  },
  {
   "cell_type": "markdown",
   "id": "4f4372be",
   "metadata": {},
   "source": [
    "##  特征工程"
   ]
  },
  {
   "cell_type": "code",
   "execution_count": 41,
   "id": "609eb0dc",
   "metadata": {},
   "outputs": [],
   "source": [
    "savedir = \"../cpts/cls/resnest101_2d_cls_seg_fold1\"\n",
    "train_X = np.load(savedir +\"/vec-train-epoch100.npy\")\n",
    "\n",
    "pred_train_vec = np.array(pred_train_vec)\n",
    "savedir = \"../cpts/cls/resnest101_2d_cls_seg_fold1\"\n",
    "test_X = np.load(savedir +\"/vec-test-epoch100.npy\")"
   ]
  },
  {
   "cell_type": "code",
   "execution_count": 42,
   "id": "d2db5f08",
   "metadata": {},
   "outputs": [
    {
     "data": {
      "text/plain": [
       "(9289, 12)"
      ]
     },
     "execution_count": 42,
     "metadata": {},
     "output_type": "execute_result"
    }
   ],
   "source": [
    "from sklearn.decomposition import PCA\n",
    "estimator = PCA(n_components=12)\n",
    "pca = estimator.fit(train_X)\n",
    "pca_X_train = pca.transform(train_X)\n",
    "pca_X_test = pca.transform(test_X)\n",
    "pca_X_train.shape"
   ]
  },
  {
   "cell_type": "code",
   "execution_count": 43,
   "id": "1d186b77",
   "metadata": {},
   "outputs": [
    {
     "data": {
      "text/plain": [
       "(2310, 2048)"
      ]
     },
     "execution_count": 43,
     "metadata": {},
     "output_type": "execute_result"
    }
   ],
   "source": [
    "test_X.shape\n",
    "# len(age_slices)"
   ]
  },
  {
   "cell_type": "code",
   "execution_count": 44,
   "id": "d355ec40",
   "metadata": {},
   "outputs": [
    {
     "data": {
      "text/plain": [
       "(2310,)"
      ]
     },
     "execution_count": 44,
     "metadata": {},
     "output_type": "execute_result"
    }
   ],
   "source": [
    "train_age_slices = np.reshape(np.array(train_age_slices),(9289,1))\n",
    "train_X=np.concatenate([train_X, train_age_slices], axis=1)\n",
    "train_Y = train_labels\n",
    "\n",
    "test_age_slices = np.reshape(np.array(test_age_slices),(2310,1))\n",
    "test_X=np.concatenate([test_X, test_age_slices], axis=1)\n",
    "test_Y = labels\n",
    "test_Y.shape"
   ]
  },
  {
   "cell_type": "code",
   "execution_count": 45,
   "id": "756265e9",
   "metadata": {},
   "outputs": [
    {
     "data": {
      "text/plain": [
       "(2310,)"
      ]
     },
     "execution_count": 45,
     "metadata": {},
     "output_type": "execute_result"
    }
   ],
   "source": [
    "train_age_slices = np.reshape(np.array(train_age_slices),(9289,1))\n",
    "pca_train_X=np.concatenate([pca_X_train, train_age_slices], axis=1)\n",
    "train_Y = train_labels\n",
    "\n",
    "test_age_slices = np.reshape(np.array(test_age_slices),(2310,1))\n",
    "pca_test_X=np.concatenate([pca_X_test, test_age_slices], axis=1)\n",
    "test_Y = labels\n",
    "test_Y.shape"
   ]
  },
  {
   "cell_type": "markdown",
   "id": "d4d75e68",
   "metadata": {},
   "source": [
    "## 测试"
   ]
  },
  {
   "cell_type": "code",
   "execution_count": 48,
   "id": "7a1524d0",
   "metadata": {},
   "outputs": [],
   "source": [
    "import xgboost as xgb\n",
    "from xgboost import XGBClassifier"
   ]
  },
  {
   "cell_type": "code",
   "execution_count": 47,
   "id": "b29dbe25",
   "metadata": {},
   "outputs": [
    {
     "name": "stderr",
     "output_type": "stream",
     "text": [
      "/home/zhang_istbi/miniconda3/envs/pt10/lib/python3.8/site-packages/xgboost/sklearn.py:1224: UserWarning: The use of label encoder in XGBClassifier is deprecated and will be removed in a future release. To remove this warning, do the following: 1) Pass option use_label_encoder=False when constructing XGBClassifier object; and 2) Encode your labels (y) as integers starting with 0, i.e. 0, 1, 2, ..., [num_class - 1].\n",
      "  warnings.warn(label_encoder_deprecation_msg, UserWarning)\n"
     ]
    },
    {
     "name": "stdout",
     "output_type": "stream",
     "text": [
      "[15:04:00] WARNING: ../src/learner.cc:1115: Starting in XGBoost 1.3.0, the default evaluation metric used with the objective 'binary:logistic' was changed from 'error' to 'logloss'. Explicitly set eval_metric if you'd like to restore the old behavior.\n"
     ]
    }
   ],
   "source": [
    "xgb1=XGBClassifier(\n",
    "    )\n",
    "# print(Y_test.shape)\n",
    "xgb1.fit(train_X,train_Y)\n"
   ]
  },
  {
   "cell_type": "code",
   "execution_count": 49,
   "id": "21074227",
   "metadata": {},
   "outputs": [
    {
     "name": "stdout",
     "output_type": "stream",
     "text": [
      "[15:06:00] WARNING: ../src/learner.cc:1115: Starting in XGBoost 1.3.0, the default evaluation metric used with the objective 'binary:logistic' was changed from 'error' to 'logloss'. Explicitly set eval_metric if you'd like to restore the old behavior.\n"
     ]
    }
   ],
   "source": [
    "xgb2=XGBClassifier(\n",
    "    )\n",
    "# print(Y_test.shape)\n",
    "xgb2.fit(pca_train_X,train_Y)\n",
    "predicted=xgb2.predict(pca_test_X)"
   ]
  },
  {
   "cell_type": "code",
   "execution_count": 54,
   "id": "1da6420d",
   "metadata": {},
   "outputs": [
    {
     "name": "stdout",
     "output_type": "stream",
     "text": [
      "acc: 0.8090909090909091\n",
      "precision_score: 0.7946954813359528\n",
      "recall_score: 0.777137367915466\n",
      "f1_score: 0.7858183584264207\n",
      "roc_auc: 0.8884729252726474\n"
     ]
    }
   ],
   "source": [
    "predicted=xgb1.predict(test_X)\n",
    "softmax_pred = xgb1.predict_proba(test_X)\n",
    "cal_cls_res(test_Y, predicted, softmax_pred[:, 1])"
   ]
  },
  {
   "cell_type": "code",
   "execution_count": 51,
   "id": "395dc21c",
   "metadata": {},
   "outputs": [
    {
     "data": {
      "text/plain": [
       "array([0.7790721 , 0.13566989, 0.00401429, 0.00826633, 0.00581783,\n",
       "       0.00678129, 0.00800504, 0.00821997, 0.01478352, 0.00503936,\n",
       "       0.00488838, 0.00662553, 0.01281649], dtype=float32)"
      ]
     },
     "execution_count": 51,
     "metadata": {},
     "output_type": "execute_result"
    }
   ],
   "source": [
    "xgb2.feature_importances_"
   ]
  },
  {
   "cell_type": "code",
   "execution_count": null,
   "id": "027b0633",
   "metadata": {},
   "outputs": [],
   "source": []
  },
  {
   "cell_type": "code",
   "execution_count": 52,
   "id": "37449123",
   "metadata": {},
   "outputs": [
    {
     "data": {
      "text/plain": [
       "<BarContainer object of 13 artists>"
      ]
     },
     "execution_count": 52,
     "metadata": {},
     "output_type": "execute_result"
    },
    {
     "data": {
      "image/png": "[encoded data removed]",
      "text/plain": [
       "<Figure size 432x288 with 1 Axes>"
      ]
     },
     "metadata": {
      "needs_background": "light"
     },
     "output_type": "display_data"
    }
   ],
   "source": [
    "plt.bar(np.arange(13),xgb2.feature_importances_ )"
   ]
  },
  {
   "cell_type": "code",
   "execution_count": null,
   "id": "65e4fe30",
   "metadata": {},
   "outputs": [],
   "source": []
  }
 ],
 "metadata": {
  "kernelspec": {
   "display_name": "Python 3 (ipykernel)",
   "language": "python",
   "name": "python3"
  },
  "language_info": {
   "codemirror_mode": {
    "name": "ipython",
    "version": 3
   },
   "file_extension": ".py",
   "mimetype": "text/x-python",
   "name": "python",
   "nbconvert_exporter": "python",
   "pygments_lexer": "ipython3",
   "version": "3.8.12"
  },
  "toc": {
   "base_numbering": 1,
   "nav_menu": {},
   "number_sections": true,
   "sideBar": true,
   "skip_h1_title": false,
   "title_cell": "Table of Contents",
   "title_sidebar": "Contents",
   "toc_cell": false,
   "toc_position": {
    "height": "calc(100% - 180px)",
    "left": "10px",
    "top": "150px",
    "width": "185.331px"
   },
   "toc_section_display": true,
   "toc_window_display": true
  }
 },
 "nbformat": 4,
 "nbformat_minor": 5
}
